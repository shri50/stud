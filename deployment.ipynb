{
 "cells": [
  {
   "cell_type": "code",
   "execution_count": null,
   "id": "8dcd49de-9e26-4154-bae3-6622237a5aa3",
   "metadata": {},
   "outputs": [],
   "source": [
    "Data Science Project \n",
    "\n",
    "Step 1: Problem Statement \n",
    "step 2: Data Gathering \n",
    "step 3: EDA\n",
    "Step 4: Fea Engg\n",
    "Step 5. Fea Selection \n",
    "Step 6: Model Training \n",
    "Step 7: Model Evaluation \n",
    "Step 8 : Deployment [AWS] \n"
   ]
  },
  {
   "cell_type": "code",
   "execution_count": null,
   "id": "51178d64-6889-44cb-ad94-3973ef7a7ef6",
   "metadata": {},
   "outputs": [],
   "source": [
    "Deployment >> Moving your project from local system to cloud system.\n",
    "\n",
    "\n",
    "local System >>\n",
    "RAM\n",
    "Processor\n",
    "HDD\n",
    "\n",
    "\n",
    "Cloud System >>\n",
    "\n",
    "processor\n",
    "RAM\n",
    "HDD/SSD\n",
    "graphics card \n"
   ]
  },
  {
   "cell_type": "code",
   "execution_count": null,
   "id": "0862331d-0b6b-45e5-a823-f420d142c5e6",
   "metadata": {},
   "outputs": [],
   "source": [
    "AWS >> Why are we AWS [GCP, Azure]\n",
    "\n",
    "It is having huge market share >> 23%\n",
    "Process is almost similar to other cloud provider's also "
   ]
  },
  {
   "cell_type": "code",
   "execution_count": null,
   "id": "2f505a40-16bd-4df9-8b13-bd338fdd6142",
   "metadata": {},
   "outputs": [],
   "source": [
    "Dependant >> Company you are working >> AWS & GCP\n",
    "                                    >> Azure"
   ]
  },
  {
   "cell_type": "code",
   "execution_count": null,
   "id": "bdb80353-f0f6-4179-94f3-ca15dc7f06ce",
   "metadata": {},
   "outputs": [],
   "source": []
  },
  {
   "cell_type": "code",
   "execution_count": null,
   "id": "deeb4eb2-dfe4-421b-acf3-4518da10a455",
   "metadata": {},
   "outputs": [],
   "source": []
  },
  {
   "cell_type": "code",
   "execution_count": null,
   "id": "5c1313e9-a51f-4eff-9e71-a44992443591",
   "metadata": {},
   "outputs": [],
   "source": [
    "####################\n",
    "Environment >> Dependies \n",
    "\n",
    "Project >> python 2.5   \n",
    "\n",
    "is it going to work python 3.5 >> NO \n",
    "\n",
    "Version Conflict \n"
   ]
  },
  {
   "cell_type": "code",
   "execution_count": null,
   "id": "f385dcc0-72a5-4068-8bd0-326230c2775c",
   "metadata": {},
   "outputs": [],
   "source": [
    "### Conda Env\n",
    "\n",
    "END TO END PROJECT [Team 5-10]\n",
    "\n",
    "Step 1: Problem Statement \n",
    "Step 2: Data \n",
    "\n",
    "Step 2.1 : Create conda env \n",
    "Step 2.2 : git repo\n",
    "    step 3 to 7\n",
    "    \n",
    "    Model >> 95% & 95% >> Generlaised model \n",
    "    \n",
    "step 7.1: Push the changes in Master/Main Branch Git [final Project Ready for deployment] \n",
    "\n",
    "Step 8: Deployment \n",
    "    step 8.1 >> Create cloud instance [cloud system]\n",
    "    step 8.2 >> Install python & Other dependancies.[flask,numpy,pandas,sklearn] \n",
    "    step 8.3 >> Run App "
   ]
  },
  {
   "cell_type": "code",
   "execution_count": null,
   "id": "2904b833",
   "metadata": {},
   "outputs": [],
   "source": [
    "import"
   ]
  }
 ],
 "metadata": {
  "kernelspec": {
   "display_name": "Python 3 (ipykernel)",
   "language": "python",
   "name": "python3"
  },
  "language_info": {
   "codemirror_mode": {
    "name": "ipython",
    "version": 3
   },
   "file_extension": ".py",
   "mimetype": "text/x-python",
   "name": "python",
   "nbconvert_exporter": "python",
   "pygments_lexer": "ipython3",
   "version": "3.7.13"
  }
 },
 "nbformat": 4,
 "nbformat_minor": 5
}
